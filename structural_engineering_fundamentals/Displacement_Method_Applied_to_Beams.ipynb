{
 "cells": [
  {
   "cell_type": "code",
   "execution_count": 1,
   "metadata": {},
   "outputs": [],
   "source": [
    "import numpy as np\n",
    "import scipy as sp\n",
    "\n",
    "import sympy as sym"
   ]
  },
  {
   "cell_type": "code",
   "execution_count": 3,
   "metadata": {},
   "outputs": [],
   "source": [
    "# A beam has four delflections : two angles and two lengths\n",
    "# A beam has four reactions : two moments and two forces\n",
    "# we specify the generic form\n",
    "\n",
    "# make symbolic material and beam constants\n",
    "E, I, L = sym.symbols(\"E I L\")\n",
    "\n",
    "# make deflection variables\n",
    "theta_A, theta_B, nu_B, nu_A = sym.symbols(\"theta_A theta_B nu_B nu_A\")\n",
    "\n",
    "# make reaction variables\n",
    "M_AB, M_BA, M_ABf, M_BAf = sym.symbols(\"M_AB M_BA M_AB^f M_BAf\")\n",
    "V_AB, V_BA, V_ABf, V_BAf = sym.symbols(\"V_AB V_BA V_AB^f V_BAf\")\n",
    "\n",
    "slope_def_MAB = 2*E*I/L * (2*theta_A + theta_B - 3*(nu_B - nu_A)/L ) + M_ABf\n",
    "slope_def_MBA = 2*E*I/L * (2*theta_A + theta_B - 3*(nu_B - nu_A)/L ) + M_BAf\n",
    "slope_def_VAB = 6*E*I/L/L * (theta_A + theta_B - 2*(nu_B - nu_A)/L ) + V_ABf\n",
    "slope_def_VBA = -6*E*I/L/L * (theta_A + theta_B - 2*(nu_B - nu_A)/L ) + V_BAf"
   ]
  },
  {
   "cell_type": "code",
   "execution_count": 4,
   "metadata": {},
   "outputs": [
    {
     "data": {
      "text/latex": [
       "$\\displaystyle \\frac{2 E I \\left(2 \\theta_{A} + \\theta_{B} - \\frac{- 3 \\nu_{A} + 3 \\nu_{B}}{L}\\right)}{L} + M^{f}_{AB}$"
      ],
      "text/plain": [
       "2*E*I*(2*theta_A + theta_B - (-3*nu_A + 3*nu_B)/L)/L + M_AB^f"
      ]
     },
     "execution_count": 4,
     "metadata": {},
     "output_type": "execute_result"
    }
   ],
   "source": [
    "slope_def_MAB"
   ]
  },
  {
   "cell_type": "code",
   "execution_count": 5,
   "metadata": {},
   "outputs": [
    {
     "data": {
      "text/latex": [
       "$\\displaystyle \\frac{6 E I \\left(\\theta_{A} + \\theta_{B} - \\frac{- 2 \\nu_{A} + 2 \\nu_{B}}{L}\\right)}{L^{2}} + V^{f}_{AB}$"
      ],
      "text/plain": [
       "6*E*I*(theta_A + theta_B - (-2*nu_A + 2*nu_B)/L)/L**2 + V_AB^f"
      ]
     },
     "execution_count": 5,
     "metadata": {},
     "output_type": "execute_result"
    }
   ],
   "source": [
    "slope_def_VAB"
   ]
  },
  {
   "cell_type": "code",
   "execution_count": 6,
   "metadata": {},
   "outputs": [],
   "source": [
    "# For this system, we have "
   ]
  },
  {
   "cell_type": "code",
   "execution_count": null,
   "metadata": {},
   "outputs": [],
   "source": [
    "# Then, we enforce the moment equilibrium at the nodes\n"
   ]
  }
 ],
 "metadata": {
  "kernelspec": {
   "display_name": "Python 3",
   "language": "python",
   "name": "python3"
  },
  "language_info": {
   "codemirror_mode": {
    "name": "ipython",
    "version": 3
   },
   "file_extension": ".py",
   "mimetype": "text/x-python",
   "name": "python",
   "nbconvert_exporter": "python",
   "pygments_lexer": "ipython3",
   "version": "3.7.4"
  }
 },
 "nbformat": 4,
 "nbformat_minor": 2
}
